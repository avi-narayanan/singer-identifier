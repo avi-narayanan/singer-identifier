{
 "cells": [
  {
   "cell_type": "code",
   "execution_count": 18,
   "metadata": {},
   "outputs": [],
   "source": [
    "import numpy as np\n",
    "import os\n",
    "import json\n",
    "import tensorflow as tf\n",
    "import keras.backend as K\n",
    "from keras.models import Model, load_model\n",
    "from keras.layers import Input, Dense, Dropout, Lambda\n",
    "from VGGish.vggish import VGGish\n",
    "import VGGish.vggish_params as params\n",
    "from VGGish.vggish_input import wavfile_to_examples\n",
    "from DataGenerator import ClassificationDataGenerator, FingerprintingDataGenerator\n",
    "from ModelLogger import ModelLogger\n",
    "np.random.seed(42)"
   ]
  },
  {
   "cell_type": "code",
   "execution_count": 4,
   "metadata": {
    "scrolled": true
   },
   "outputs": [
    {
     "name": "stdout",
     "output_type": "stream",
     "text": [
      "Model: \"fingerprinting_VGGish_16_v0.1_flatten_6\"\n",
      "__________________________________________________________________________________________________\n",
      "Layer (type)                    Output Shape         Param #     Connected to                     \n",
      "==================================================================================================\n",
      "Left_Input (InputLayer)         (None, 400, 64, 1)   0                                            \n",
      "__________________________________________________________________________________________________\n",
      "Right_Input (InputLayer)        (None, 400, 64, 1)   0                                            \n",
      "__________________________________________________________________________________________________\n",
      "Encoder (Model)                 (None, 16)           5318928     Left_Input[0][0]                 \n",
      "                                                                 Right_Input[0][0]                \n",
      "__________________________________________________________________________________________________\n",
      "L1_Layer (Lambda)               (None, 16)           0           Encoder[1][0]                    \n",
      "                                                                 Encoder[2][0]                    \n",
      "__________________________________________________________________________________________________\n",
      "output (Dense)                  (None, 1)            17          L1_Layer[0][0]                   \n",
      "==================================================================================================\n",
      "Total params: 5,318,945\n",
      "Trainable params: 819,233\n",
      "Non-trainable params: 4,499,712\n",
      "__________________________________________________________________________________________________\n"
     ]
    }
   ],
   "source": [
    "models_folder = 'TrainedModels'\n",
    "model_name = 'fingerprinting_VGGish_16_v0.1_flatten_6.h5'\n",
    "model = load_model(os.path.join('.',models_folder,model_name))\n",
    "model.summary()"
   ]
  },
  {
   "cell_type": "code",
   "execution_count": 31,
   "metadata": {},
   "outputs": [],
   "source": [
    "in_folder = os.path.join('.','Spectrograms','test')\n",
    "out_folder = os.path.join('.','GeneratedFingerprints')\n",
    "os.makedirs(out_folder,exist_ok=True)\n",
    "out_file_name = '.'.join(model_name.split('.')[:-1]) + '.json'\n",
    "out_file = os.path.join(out_folder,out_file_name)\n",
    "artists = os.listdir(in_folder)\n",
    "batch_size = 128\n",
    "data_gen = ClassificationDataGenerator(\n",
    "    data_dir=in_folder,\n",
    "    batch_size=batch_size,\n",
    "    mode='multi-class',\n",
    "    labels = artists\n",
    ")\n",
    "\n",
    "def get_label(labels, one_hot_vector):\n",
    "    return labels[one_hot_vector.tolist().index(1)]"
   ]
  },
  {
   "cell_type": "code",
   "execution_count": 16,
   "metadata": {
    "collapsed": true
   },
   "outputs": [
    {
     "name": "stdout",
     "output_type": "stream",
     "text": [
      "121 121\r"
     ]
    },
    {
     "ename": "IndexError",
     "evalue": "index 7 is out of bounds for axis 0 with size 7",
     "output_type": "error",
     "traceback": [
      "\u001b[0;31m---------------------------------------------------------------------------\u001b[0m",
      "\u001b[0;31mIndexError\u001b[0m                                Traceback (most recent call last)",
      "\u001b[0;32m<ipython-input-16-01c29c8e24f0>\u001b[0m in \u001b[0;36m<module>\u001b[0;34m\u001b[0m\n\u001b[1;32m      6\u001b[0m     \u001b[0mfingerprints\u001b[0m \u001b[0;34m=\u001b[0m \u001b[0mencoder\u001b[0m\u001b[0;34m.\u001b[0m\u001b[0mpredict\u001b[0m\u001b[0;34m(\u001b[0m\u001b[0mX\u001b[0m\u001b[0;34m)\u001b[0m\u001b[0;34m\u001b[0m\u001b[0;34m\u001b[0m\u001b[0m\n\u001b[1;32m      7\u001b[0m     \u001b[0;32mfor\u001b[0m \u001b[0mi\u001b[0m \u001b[0;32min\u001b[0m \u001b[0mrange\u001b[0m\u001b[0;34m(\u001b[0m\u001b[0mbatch_size\u001b[0m\u001b[0;34m)\u001b[0m\u001b[0;34m:\u001b[0m\u001b[0;34m\u001b[0m\u001b[0;34m\u001b[0m\u001b[0m\n\u001b[0;32m----> 8\u001b[0;31m         \u001b[0mall_fingerprints\u001b[0m\u001b[0;34m[\u001b[0m\u001b[0mget_label\u001b[0m\u001b[0;34m(\u001b[0m\u001b[0martists\u001b[0m\u001b[0;34m,\u001b[0m\u001b[0my\u001b[0m\u001b[0;34m[\u001b[0m\u001b[0mi\u001b[0m\u001b[0;34m]\u001b[0m\u001b[0;34m)\u001b[0m\u001b[0;34m]\u001b[0m\u001b[0;34m.\u001b[0m\u001b[0mappend\u001b[0m\u001b[0;34m(\u001b[0m\u001b[0mfingerprints\u001b[0m\u001b[0;34m[\u001b[0m\u001b[0mi\u001b[0m\u001b[0;34m]\u001b[0m\u001b[0;34m)\u001b[0m\u001b[0;34m\u001b[0m\u001b[0;34m\u001b[0m\u001b[0m\n\u001b[0m",
      "\u001b[0;31mIndexError\u001b[0m: index 7 is out of bounds for axis 0 with size 7"
     ]
    }
   ],
   "source": [
    "encoder = model.get_layer('Encoder')\n",
    "all_fingerprints = {artist:[] for artist in artists}\n",
    "for i in range(len(data_gen)):\n",
    "    print(i+1,len(data_gen),end='\\r')\n",
    "    X,y = data_gen.__getitem__(i)\n",
    "    fingerprints = encoder.predict(X)\n",
    "    for i in range(batch_size):\n",
    "        all_fingerprints[get_label(artists,y[i])].append(fingerprints[i])"
   ]
  },
  {
   "cell_type": "code",
   "execution_count": 32,
   "metadata": {},
   "outputs": [],
   "source": [
    "def default(item):\n",
    "    if isinstance(item,np.ndarray):\n",
    "        return item.tolist()\n",
    "\n",
    "avg_fingerprints = {k:np.average(all_fingerprints[k],axis=0) for k in all_fingerprints}\n",
    "with open(out_file,'w') as f:\n",
    "    json.dump({'all_fingerprints':all_fingerprints,'avg_fingerprints':avg_fingerprints},f,default=default)"
   ]
  }
 ],
 "metadata": {
  "kernelspec": {
   "display_name": "Python 3",
   "language": "python",
   "name": "python3"
  },
  "language_info": {
   "codemirror_mode": {
    "name": "ipython",
    "version": 3
   },
   "file_extension": ".py",
   "mimetype": "text/x-python",
   "name": "python",
   "nbconvert_exporter": "python",
   "pygments_lexer": "ipython3",
   "version": "3.7.3"
  }
 },
 "nbformat": 4,
 "nbformat_minor": 2
}
