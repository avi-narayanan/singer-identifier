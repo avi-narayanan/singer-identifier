{
 "cells": [
  {
   "cell_type": "code",
   "execution_count": 1,
   "metadata": {},
   "outputs": [
    {
     "name": "stderr",
     "output_type": "stream",
     "text": [
      "Using TensorFlow backend.\n"
     ]
    },
    {
     "data": {
      "text/plain": [
       "'2.1.0'"
      ]
     },
     "execution_count": 1,
     "metadata": {},
     "output_type": "execute_result"
    }
   ],
   "source": [
    "import numpy as np\n",
    "import os\n",
    "import json\n",
    "import tensorflow as tf\n",
    "import matplotlib.pyplot as plt\n",
    "import keras.backend as K\n",
    "from tensorflow.keras.models import Model\n",
    "from tensorflow.keras.layers import Input, Dense, Dropout\n",
    "from VGGish.vggish import VGGish\n",
    "from VGGish import vggish_params\n",
    "from VGGish.vggish_input import wavfile_to_examples\n",
    "from DataGenerator import ClassificationDataGenerator, FingerprintingDataGenerator\n",
    "from ModelLogger import ModelLogger\n",
    "import time\n",
    "np.random.seed(42)\n",
    "tf.version.VERSION"
   ]
  },
  {
   "cell_type": "code",
   "execution_count": 29,
   "metadata": {},
   "outputs": [],
   "source": [
    "def get_spectrograms(file_path, hop_length=1):\n",
    "    spectrograms = wavfile_to_examples(file_path, hop_length=hop_length)\n",
    "    spectrograms = np.reshape(spectrograms,spectrograms.shape + tuple([1]))\n",
    "    return spectrograms"
   ]
  },
  {
   "cell_type": "code",
   "execution_count": 30,
   "metadata": {},
   "outputs": [],
   "source": [
    "def get_fingerprint(file_path, encoder, chorus_model, hop_length=1):\n",
    "    spectrograms = get_spectrograms(file_path, hop_length)\n",
    "    chorus_mask = is_chorus(spectrograms, chorus_model)\n",
    "    fps = encoder.predict(spectrograms[~chorus_mask])\n",
    "    fp = np.average(fps, axis=0)\n",
    "    del spectrograms, chorus_mask, fps\n",
    "    return fp"
   ]
  },
  {
   "cell_type": "code",
   "execution_count": 2,
   "metadata": {},
   "outputs": [],
   "source": [
    "def get_similarity(encoder, similarity_model, spectrograms, fingerprint):\n",
    "    # Repeat fingerprint vector n times where n is the number of input spectrograms\n",
    "    fps = np.array([fingerprint,]*spectrograms.shape[0])\n",
    "    encoded_spec = encoder.predict(spectrograms)\n",
    "    similarity = similarity_model.predict([encoded_spec,fps])\n",
    "    return similarity"
   ]
  },
  {
   "cell_type": "code",
   "execution_count": null,
   "metadata": {},
   "outputs": [],
   "source": [
    "def is_chorus(spectrograms, chorus_model, CHORUS_CONFIDENCE_THRESHOLD = 0.40):\n",
    "    chorus_pred = chorus_model.predict(spectrograms)\n",
    "    chorus_mask = np.array([True if p>CHORUS_CONFIDENCE_THRESHOLD else False for p in chorus_pred])\n",
    "    return chorus_mask"
   ]
  },
  {
   "cell_type": "code",
   "execution_count": 1,
   "metadata": {},
   "outputs": [],
   "source": [
    "def custom_similarity(similarities, SIMILARITY_CONFIDENCE_THRESHHOLD = 0.4):\n",
    "    \"\"\"Given a list of similarity scores, returns the proportion of times the value is greater than SIMILARITY_CONFIDENCE_THRESHHOLD\"\"\"\n",
    "    return sum([1 if s>SIMILARITY_CONFIDENCE_THRESHOLD else 0 for s in similarities])/len(similarities)"
   ]
  },
  {
   "cell_type": "code",
   "execution_count": 26,
   "metadata": {},
   "outputs": [
    {
     "name": "stdout",
     "output_type": "stream",
     "text": [
      "WARNING:tensorflow:No training configuration found in save file: the model was *not* compiled. Compile it manually.\n",
      "WARNING:tensorflow:No training configuration found in save file: the model was *not* compiled. Compile it manually.\n"
     ]
    }
   ],
   "source": [
    "MODELS_FOLDER = os.path.join('.','TrainedModels')\n",
    "CHORUS_MODEL_NAME = 'binary_VGGish_Chorus_v0.1.h5'\n",
    "ENCODER_MODEL_NAME = 'ENCODER_fingerprinting_VGGish_16_v0.1_flatten_6.h5'\n",
    "SIMILARITY_MODEL_NAME = 'SIMILARITY_fingerprinting_VGGish_16_v0.1_flatten_6.h5'\n",
    "CHORUS_CONFIDENCE_THRESHOLD = 0.40\n",
    "SIMILARITY_CONFIDENCE_THRESHOLD = 0.70\n",
    "\n",
    "chorus_model = tf.keras.models.load_model(os.path.join(MODELS_FOLDER, CHORUS_MODEL_NAME))\n",
    "encoder = tf.keras.models.load_model(os.path.join(MODELS_FOLDER, ENCODER_MODEL_NAME))\n",
    "fp_similarity_model = tf.keras.models.load_model(os.path.join(MODELS_FOLDER, SIMILARITY_MODEL_NAME))"
   ]
  },
  {
   "cell_type": "code",
   "execution_count": 28,
   "metadata": {},
   "outputs": [],
   "source": [
    "file_for_fp = os.path.join('.','Data','Kumar','Akhana Jyoti Jalao.wav')\n",
    "fp = get_fingerprint(file_for_fp, encoder, chorus_model)"
   ]
  },
  {
   "cell_type": "code",
   "execution_count": 24,
   "metadata": {
    "collapsed": true
   },
   "outputs": [
    {
     "name": "stdout",
     "output_type": "stream",
     "text": [
      "Median - 0.048038762\n",
      "Average - 0.1246605\n",
      "Custom - 0.02\n",
      "Time Taken - 28.216921091079712\n"
     ]
    }
   ],
   "source": [
    "start = time.time()\n",
    "input_song = os.path.join('.','Data','Emma','Vanamali Vasudeva.wav')\n",
    "specs = get_spectrograms(input_song)\n",
    "chorus_mask = is_chorus(specs, chorus_model, CHORUS_CONFIDENCE_THRESHOLD)\n",
    "non_chorus_specs = specs[~chorus_mask]\n",
    "similarities = get_similarity(encoder, fp_similarity_model, non_chorus_specs, fp)\n",
    "end = time.time()\n",
    "med = np.median(similarities)\n",
    "custom_metric = custom_similarity(similarities, SIMILARITY_CONFIDENCE_THRESHHOLD)\n",
    "avg = np.average(similarities)\n",
    "print(\"Median -\", med)\n",
    "print(\"Average -\", avg)\n",
    "print(\"Custom -\", custom_metric)\n",
    "print(\"Time Taken -\", end-start)"
   ]
  }
 ],
 "metadata": {
  "kernelspec": {
   "display_name": "Python 3",
   "language": "python",
   "name": "python3"
  },
  "language_info": {
   "codemirror_mode": {
    "name": "ipython",
    "version": 3
   },
   "file_extension": ".py",
   "mimetype": "text/x-python",
   "name": "python",
   "nbconvert_exporter": "python",
   "pygments_lexer": "ipython3",
   "version": "3.7.3"
  }
 },
 "nbformat": 4,
 "nbformat_minor": 2
}
